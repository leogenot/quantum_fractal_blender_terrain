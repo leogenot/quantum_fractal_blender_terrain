{
 "cells": [
  {
   "cell_type": "code",
   "execution_count": null,
   "id": "283f043b-c89e-4ad7-9297-c78b65a0d6ac",
   "metadata": {},
   "outputs": [],
   "source": [
    "# Importing standard python libraries\n",
    "import numpy as np\n",
    "from math import pi,sqrt\n",
    "import matplotlib.pyplot as plt\n",
    "\n",
    "# Importing standard Qiskit libraries\n",
    "from qiskit import QuantumCircuit, transpile, Aer, IBMQ, execute, QuantumRegister\n",
    "from qiskit.tools.jupyter import *\n",
    "from qiskit.visualization import * # plot_bloch_multivector\n",
    "from ibm_quantum_widgets import * # CircuitComposer\n",
    "from qiskit.providers.aer import QasmSimulator\n",
    "from qiskit.quantum_info import Statevector\n",
    "\n",
    "# Loading your IBM Quantum account(s)\n",
    "provider = IBMQ.load_account()"
   ]
  },
  {
   "cell_type": "code",
   "execution_count": null,
   "id": "307cf491-16cd-440f-a09b-af1d26ae4ff2",
   "metadata": {},
   "outputs": [],
   "source": [
    "# Start with an one qubit quantum circuit yielding a nice fractal. Change the circuit as you like.\n",
    "circuit = QuantumCircuit(1,1)\n",
    "circuit.h(0)\n",
    "circuit.u(pi/4, -pi/3, pi/8, 0)\n",
    "editor = CircuitComposer(circuit=circuit)\n",
    "editor"
   ]
  },
  {
   "cell_type": "code",
   "execution_count": null,
   "id": "02c715dc-f48f-43d9-9059-aca1b313ecea",
   "metadata": {},
   "outputs": [],
   "source": [
    "# View the circiut quantum state on the Bloch sphere \n",
    "qc1 = editor.circuit\n",
    "plot_bloch_multivector(qc1)"
   ]
  },
  {
   "cell_type": "code",
   "execution_count": null,
   "id": "e75cab19",
   "metadata": {},
   "outputs": [],
   "source": [
    "qc1.draw()"
   ]
  },
  {
   "cell_type": "code",
   "execution_count": null,
   "id": "b01a6b01-5181-41e6-8027-d35a6c49c5c5",
   "metadata": {},
   "outputs": [],
   "source": [
    "# Run the circuit with the state vector simulator to obtain a noise-free fractal.\n",
    "backend = Aer.get_backend('statevector_simulator')\n",
    "out = execute(qc1,backend).result().get_statevector()\n",
    "print(out)\n",
    "\n",
    "# Extract the first element of the state vector as z0 and the second element as z1.\n",
    "z0 = out.data[0]\n",
    "z1 = out.data[1]\n",
    "\n",
    "# Goal: One complex number for the Julia set fractal. \n",
    "if z1.real != 0 or z1.imag != 0:\n",
    "    z = z0/z1\n",
    "    z = round(z.real, 2) + round(z.imag, 2) * 1j\n",
    "    print(\"z0/z1= \",z)\n",
    "else:\n",
    "     z = 0 \n",
    "\n",
    "print(\"z= \",z)\n",
    "\n",
    "# Define the size\n",
    "size = 1000\n",
    "heightsize = size\n",
    "widthsize = size\n",
    "\n",
    "\n",
    "def julia_set(c=z, height=heightsize, width=widthsize, x=0, y=0, zoom=5, max_iterations=70):\n",
    "\n",
    "    # To make navigation easier we calculate these values\n",
    "    x_width = 1.5\n",
    "    y_height = 1.5*height/width\n",
    "    x_from = x - x_width/zoom\n",
    "    x_to = x + x_width/zoom\n",
    "    y_from = y - y_height/zoom\n",
    "    y_to = y + y_height/zoom\n",
    "    \n",
    "    # Here the actual algorithm starts and the z paramter is defined for the Julia set function\n",
    "    x = np.linspace(x_from, x_to, width).reshape((1, width))\n",
    "    y = np.linspace(y_from, y_to, height).reshape((height, 1))\n",
    "    z = x + 1j * y\n",
    "    \n",
    "    # Initialize c to the complex number obtained from the quantum circuit\n",
    "    c = np.full(z.shape, c)\n",
    "    \n",
    "    # To keep track in which iteration the point diverged\n",
    "    div_time = np.zeros(z.shape, dtype=int)\n",
    "    \n",
    "    # To keep track on which points did not converge so far\n",
    "    m = np.full(c.shape, True, dtype=bool)\n",
    "    \n",
    "    for i in range(max_iterations):\n",
    "        z[m] = z[m]**2 + c[m] \n",
    "        m[np.abs(z) > 2] = False\n",
    "        div_time[m] = i\n",
    "    return div_time\n",
    "\n",
    "\n",
    "# plot the Julia set fractal\n",
    "plt.imshow(julia_set(), cmap='magma') # viridis', 'plasma', 'inferno', 'magma', 'cividis'\n",
    "plt.show()"
   ]
  },
  {
   "cell_type": "markdown",
   "id": "23fc807d-112b-48be-ae76-d422c32b956c",
   "metadata": {},
   "source": [
    "# Running on a real quantum computer\n",
    "### Identify the least busy system, perform measurements and run on the backend"
   ]
  },
  {
   "cell_type": "code",
   "execution_count": null,
   "id": "aec279de",
   "metadata": {},
   "outputs": [],
   "source": [
    "from qiskit.providers.aer import noise\n",
    "from qiskit_aer.noise import NoiseModel\n",
    "\n",
    "IBMQ.load_account()\n",
    "provider = IBMQ.get_provider(hub = 'ibm-q')\n",
    "\n",
    "# or, specifically choose a device. Paris performs the best out of any device so far\n",
    "device = provider.get_backend('ibm_oslo')\n",
    "\n",
    "# Get the noise from quantic\n",
    "noise_model = NoiseModel.from_backend(device)\n",
    "# Get coupling map from backend\n",
    "coupling_map = backend.configuration().coupling_map\n",
    "# Get basis gates from noise model\n",
    "basis_gates = noise_model.basis_gates\n",
    "\n"
   ]
  },
  {
   "cell_type": "code",
   "execution_count": null,
   "id": "45e29602-c3cf-4a2d-902f-48b48c37f64e",
   "metadata": {},
   "outputs": [],
   "source": [
    "# Add measurement - used to calculate the modified state vector\n",
    "qc1.measure(0, 0)\n",
    "qc1.draw()"
   ]
  },
  {
   "cell_type": "code",
   "execution_count": null,
   "id": "6dca8242-7417-4ff9-9900-8372f01cd217",
   "metadata": {},
   "outputs": [],
   "source": [
    "shotno=1024\n",
    "job = execute(qc1, Aer.get_backend('qasm_simulator'),\n",
    "                 coupling_map=coupling_map,\n",
    "                 basis_gates=basis_gates,\n",
    "                 noise_model=noise_model,\n",
    "                 shots=shotno)\n",
    "\n",
    "# Get the results from the computation\n",
    "result = job.result()"
   ]
  },
  {
   "cell_type": "markdown",
   "id": "ea3723e3-844e-4e05-b289-7139743677bd",
   "metadata": {},
   "source": [
    "## Perform calculations and plot result"
   ]
  },
  {
   "cell_type": "code",
   "execution_count": null,
   "id": "7a0e0d7f-77ad-4361-bb4e-00edbf024c31",
   "metadata": {},
   "outputs": [],
   "source": [
    "# Get count measurement results\n",
    "counts = result.get_counts()\n",
    "\n",
    "\n",
    "prob0qc = counts['0']/shotno\n",
    "prob1qc = counts['1']/shotno\n",
    "#print(\"Observed probabilities of measuring the computational basis states\", round(prob0qc,3), round(prob1qc,3))\n",
    "\n",
    "prob0statevec = out.probabilities()[0]\n",
    "prob1statevec = out.probabilities()[1]\n",
    "\n",
    "# one simple approach to calculate a quantum computer-modified complex number # amplitude^2 = probability\n",
    "z0qc = z0*sqrt(prob0qc/prob0statevec)\n",
    "z1qc = z1*sqrt(prob1qc/prob1statevec)\n",
    "zqc = z0qc/z1qc\n",
    "\n",
    "# compare the simulator state vector with the-running-on-a-real-quantum-computer modified state vector\n",
    "print(z,zqc)\n",
    "\n",
    "# Plot both Julia set fractals for comparison - the simulator based on the left and the modified on the right \n",
    "f, axarr = plt.subplots(1,2,figsize=(12, 12))\n",
    "axarr[0].imshow(julia_set(c=z), cmap='magma')\n",
    "axarr[1].imshow(julia_set(c=zqc), cmap='gray')\n",
    "\n",
    "# Save the subplot.\n",
    "bbox = axarr[1].get_tightbbox(f.canvas.get_renderer())"
   ]
  },
  {
   "cell_type": "code",
   "execution_count": null,
   "id": "5b685e25",
   "metadata": {},
   "outputs": [],
   "source": [
    "# Save the subplot.\n",
    "import os\n",
    "\n",
    "counter = 0\n",
    "filename = \"heightmap{}.png\"\n",
    "while os.path.isfile(filename.format(counter)):\n",
    "    counter += 1\n",
    "filename = filename.format(counter)\n",
    "\n",
    "# Save just the portion _inside_ the second axis's boundaries\n",
    "extent = axarr[1].get_window_extent().transformed(f.dpi_scale_trans.inverted())\n",
    "f.savefig('heightmaps/quantum/' + filename, bbox_inches=extent,dpi=300)\n",
    "\n",
    "#blender heightmap\n",
    "extent = axarr[1].get_window_extent().transformed(f.dpi_scale_trans.inverted())\n",
    "f.savefig('heightmap', bbox_inches=extent,dpi=300)\n",
    "\n",
    "#no quantum computer heightmap\n",
    "extent = axarr[0].get_window_extent().transformed(f.dpi_scale_trans.inverted())\n",
    "f.savefig('heightmaps/normal/ax1_figure.png', bbox_inches=extent,dpi=300)"
   ]
  },
  {
   "attachments": {},
   "cell_type": "markdown",
   "id": "57a1c416",
   "metadata": {},
   "source": [
    "## Run blender script to automatically generate a 3D model of the fractal terrain"
   ]
  },
  {
   "cell_type": "code",
   "execution_count": null,
   "id": "85ccde55",
   "metadata": {},
   "outputs": [],
   "source": [
    "import subprocess\n",
    "\n",
    "PATH_TO_BLENDER = \"Blender app path\"\n",
    "PATH_TO_BLENDER_SCRIPT = \"Blender script path\"\n",
    "PATH_TO_BLENDER_SCENE = \"./blender_script.py\"\n",
    "\n",
    "# Path to the Blender executable\n",
    "blender_executable = PATH_TO_BLENDER\n",
    "\n",
    "# Path to the Blender scene file\n",
    "scene_file = PATH_TO_BLENDER_SCENE\n",
    "\n",
    "# Path to the Blender script file\n",
    "script_file = PATH_TO_BLENDER_SCRIPT\n",
    "\n",
    "\n",
    "\n",
    "# Run the Blender script to set up the scene\n",
    "subprocess.call([\n",
    "    blender_executable,\n",
    "    scene_file,\n",
    "    '-b',  # Run in background mode\n",
    "    '-P', script_file  # Run the script file\n",
    "])\n"
   ]
  }
 ],
 "metadata": {
  "kernelspec": {
   "display_name": "Python 3",
   "language": "python",
   "name": "python3"
  },
  "language_info": {
   "codemirror_mode": {
    "name": "ipython",
    "version": 3
   },
   "file_extension": ".py",
   "mimetype": "text/x-python",
   "name": "python",
   "nbconvert_exporter": "python",
   "pygments_lexer": "ipython3",
   "version": "3.10.8"
  },
  "vscode": {
   "interpreter": {
    "hash": "b0fa6594d8f4cbf19f97940f81e996739fb7646882a419484c72d19e05852a7e"
   }
  },
  "widgets": {
   "application/vnd.jupyter.widget-state+json": {
    "state": {
     "0890dfea36b540b0add173bbbfe4fc66": {
      "model_module": "@jupyter-widgets/controls",
      "model_module_version": "1.5.0",
      "model_name": "ButtonModel",
      "state": {
       "button_style": "primary",
       "description": "Clear",
       "layout": "IPY_MODEL_1c067c82036846138a1409a0fc99c360",
       "style": "IPY_MODEL_44fe76827bd9436ba7f026fc9b4e2303"
      }
     },
     "1c067c82036846138a1409a0fc99c360": {
      "model_module": "@jupyter-widgets/base",
      "model_module_version": "1.2.0",
      "model_name": "LayoutModel",
      "state": {
       "grid_area": "right",
       "padding": "0px 0px 0px 0px",
       "width": "70px"
      }
     },
     "44fe76827bd9436ba7f026fc9b4e2303": {
      "model_module": "@jupyter-widgets/controls",
      "model_module_version": "1.5.0",
      "model_name": "ButtonStyleModel",
      "state": {}
     },
     "4626b3d9578a4a7ebd9de1768f635cfd": {
      "model_module": "@jupyter-widgets/controls",
      "model_module_version": "1.5.0",
      "model_name": "HTMLModel",
      "state": {
       "layout": "IPY_MODEL_e691e7c91f8140d5bbbb556e3965115f",
       "style": "IPY_MODEL_7f166c8cbdf5470a88442887cfa8092c",
       "value": "<h5>Queue</h5>"
      }
     },
     "4a06540c471547f783185976d7bd51ac": {
      "model_module": "@jupyter-widgets/controls",
      "model_module_version": "1.5.0",
      "model_name": "DescriptionStyleModel",
      "state": {
       "description_width": ""
      }
     },
     "507be9a1b96342f995e39d2c5f45121a": {
      "model_module": "@jupyter-widgets/controls",
      "model_module_version": "1.5.0",
      "model_name": "DescriptionStyleModel",
      "state": {
       "description_width": ""
      }
     },
     "5def65a389944192b5e42f68c34dc498": {
      "model_module": "@jupyter-widgets/base",
      "model_module_version": "1.2.0",
      "model_name": "LayoutModel",
      "state": {
       "margin": "0px 0px 0px 37px",
       "width": "600px"
      }
     },
     "6b39584898f54d56a40d02a52b764631": {
      "model_module": "@jupyter-widgets/controls",
      "model_module_version": "1.5.0",
      "model_name": "HBoxModel",
      "state": {
       "children": [
        "IPY_MODEL_af75cb5827c94ecfafaaf2088c459a62",
        "IPY_MODEL_dd90276fc48748af9f27faa8a6e02cd8",
        "IPY_MODEL_dcea0404d9ec48088b1f54fc52c9f476",
        "IPY_MODEL_4626b3d9578a4a7ebd9de1768f635cfd",
        "IPY_MODEL_a0b29fc89df04dac99d644b96f4c4373"
       ],
       "layout": "IPY_MODEL_5def65a389944192b5e42f68c34dc498"
      }
     },
     "722476fda84f4af5b2514147f779a847": {
      "model_module": "@jupyter-widgets/base",
      "model_module_version": "1.2.0",
      "model_name": "LayoutModel",
      "state": {}
     },
     "7f166c8cbdf5470a88442887cfa8092c": {
      "model_module": "@jupyter-widgets/controls",
      "model_module_version": "1.5.0",
      "model_name": "DescriptionStyleModel",
      "state": {
       "description_width": ""
      }
     },
     "870e53798a574afd8de807a48c5b8ec4": {
      "model_module": "@jupyter-widgets/controls",
      "model_module_version": "1.5.0",
      "model_name": "DescriptionStyleModel",
      "state": {
       "description_width": ""
      }
     },
     "92ee4276b84e4fd2b534ede582af638c": {
      "model_module": "@jupyter-widgets/base",
      "model_module_version": "1.2.0",
      "model_name": "LayoutModel",
      "state": {
       "width": "145px"
      }
     },
     "9c208fbc714d4bf5a29e63a04f788f08": {
      "model_module": "@jupyter-widgets/controls",
      "model_module_version": "1.5.0",
      "model_name": "GridBoxModel",
      "state": {
       "children": [
        "IPY_MODEL_0890dfea36b540b0add173bbbfe4fc66"
       ],
       "layout": "IPY_MODEL_a5ef3e7d94754ac7acee4cc234dfbcaf"
      }
     },
     "a0b29fc89df04dac99d644b96f4c4373": {
      "model_module": "@jupyter-widgets/controls",
      "model_module_version": "1.5.0",
      "model_name": "HTMLModel",
      "state": {
       "layout": "IPY_MODEL_722476fda84f4af5b2514147f779a847",
       "style": "IPY_MODEL_eb8f041d98614eb5ab2791ebf8469ca6",
       "value": "<h5>Message</h5>"
      }
     },
     "a5ef3e7d94754ac7acee4cc234dfbcaf": {
      "model_module": "@jupyter-widgets/base",
      "model_module_version": "1.2.0",
      "model_name": "LayoutModel",
      "state": {
       "grid_template_areas": "\n                                       \". . . . right \"\n                                        ",
       "grid_template_columns": "20% 20% 20% 20% 20%",
       "width": "100%"
      }
     },
     "af75cb5827c94ecfafaaf2088c459a62": {
      "model_module": "@jupyter-widgets/controls",
      "model_module_version": "1.5.0",
      "model_name": "HTMLModel",
      "state": {
       "layout": "IPY_MODEL_e94e47b2908540f2b6a223a25b6cfbcb",
       "style": "IPY_MODEL_870e53798a574afd8de807a48c5b8ec4",
       "value": "<h5>Job ID</h5>"
      }
     },
     "b65e970e290d454c93f4505f256c14b5": {
      "model_module": "@quantum/ibm-q-lab-widgets",
      "model_module_version": "^1.0.3",
      "model_name": "CircuitComposerModel",
      "state": {
       "_model_module_version": "^1.0.3",
       "_view_module_version": "^1.0.3",
       "circuit": "\"OPENQASM 2.0;\\ninclude \\\"qelib1.inc\\\";\\n\\nqreg q[1];\\ncreg c[1];\\n\\nh q[0];\\nu(pi/4,-pi/3,pi/8) q[0];\"",
       "editable": true,
       "layout": "IPY_MODEL_e73335cfae984dd0922f8c7b86b3baf0",
       "qiskit_code_cell_index": -1
      }
     },
     "d603184adca3493c91a98c0223c027b1": {
      "model_module": "@jupyter-widgets/base",
      "model_module_version": "1.2.0",
      "model_name": "LayoutModel",
      "state": {
       "width": "95px"
      }
     },
     "dcb74f4537ab451690c3ef9ff6e2683c": {
      "model_module": "@jupyter-widgets/controls",
      "model_module_version": "1.5.0",
      "model_name": "DescriptionStyleModel",
      "state": {
       "description_width": ""
      }
     },
     "dcea0404d9ec48088b1f54fc52c9f476": {
      "model_module": "@jupyter-widgets/controls",
      "model_module_version": "1.5.0",
      "model_name": "HTMLModel",
      "state": {
       "layout": "IPY_MODEL_d603184adca3493c91a98c0223c027b1",
       "style": "IPY_MODEL_dcb74f4537ab451690c3ef9ff6e2683c",
       "value": "<h5>Status</h5>"
      }
     },
     "dd90276fc48748af9f27faa8a6e02cd8": {
      "model_module": "@jupyter-widgets/controls",
      "model_module_version": "1.5.0",
      "model_name": "HTMLModel",
      "state": {
       "layout": "IPY_MODEL_92ee4276b84e4fd2b534ede582af638c",
       "style": "IPY_MODEL_507be9a1b96342f995e39d2c5f45121a",
       "value": "<h5>Backend</h5>"
      }
     },
     "de11b7a6fe93472b8a36cd002a5a85ca": {
      "model_module": "@jupyter-widgets/base",
      "model_module_version": "1.2.0",
      "model_name": "LayoutModel",
      "state": {
       "margin": "0px 0px 10px 0px"
      }
     },
     "e4f7438e750f4594acb49a83d8a571de": {
      "model_module": "@jupyter-widgets/controls",
      "model_module_version": "1.5.0",
      "model_name": "HTMLModel",
      "state": {
       "layout": "IPY_MODEL_de11b7a6fe93472b8a36cd002a5a85ca",
       "style": "IPY_MODEL_4a06540c471547f783185976d7bd51ac",
       "value": "<p style='font-family: IBM Plex Sans, Arial, Helvetica, sans-serif; font-size: 20px; font-weight: medium;'>Circuit Properties</p>"
      }
     },
     "e691e7c91f8140d5bbbb556e3965115f": {
      "model_module": "@jupyter-widgets/base",
      "model_module_version": "1.2.0",
      "model_name": "LayoutModel",
      "state": {
       "width": "70px"
      }
     },
     "e73335cfae984dd0922f8c7b86b3baf0": {
      "model_module": "@jupyter-widgets/base",
      "model_module_version": "1.2.0",
      "model_name": "LayoutModel",
      "state": {}
     },
     "e94e47b2908540f2b6a223a25b6cfbcb": {
      "model_module": "@jupyter-widgets/base",
      "model_module_version": "1.2.0",
      "model_name": "LayoutModel",
      "state": {
       "width": "190px"
      }
     },
     "eb8f041d98614eb5ab2791ebf8469ca6": {
      "model_module": "@jupyter-widgets/controls",
      "model_module_version": "1.5.0",
      "model_name": "DescriptionStyleModel",
      "state": {
       "description_width": ""
      }
     }
    },
    "version_major": 2,
    "version_minor": 0
   }
  }
 },
 "nbformat": 4,
 "nbformat_minor": 5
}
